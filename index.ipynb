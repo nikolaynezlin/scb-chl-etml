{
  "nbformat": 4,
  "nbformat_minor": 0,
  "metadata": {
    "colab": {
      "provenance": [],
      "authorship_tag": "ABX9TyOKMNQsVueX7XOdnljEWVNM"
    },
    "kernelspec": {
      "name": "python3",
      "display_name": "Python 3"
    },
    "language_info": {
      "name": "python"
    }
  },
  "cells": [
    {
      "cell_type": "code",
      "execution_count": 1,
      "metadata": {
        "id": "vDuZT2GnUpPm",
        "colab": {
          "base_uri": "https://localhost:8080/"
        },
        "outputId": "452c1800-283c-4c3e-c9de-129ae59b845c"
      },
      "outputs": [
        {
          "output_type": "stream",
          "name": "stdout",
          "text": [
            "Hello!\n"
          ]
        }
      ],
      "source": [
        "print('Hello!')"
      ]
    }
  ]
}